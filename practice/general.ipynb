{
 "cells": [
  {
   "cell_type": "code",
   "execution_count": 1,
   "metadata": {},
   "outputs": [],
   "source": [
    "from src.core.schedules import (\n",
    "    FRIDAY_SCHEDULE,\n",
    "    MONDAY_SCHEDULE,\n",
    "    SATURDAY_SCHEDULE,\n",
    "    SUNDAY_SCHEDULE,\n",
    "    THURSDAY_SCHEDULE,\n",
    "    TUESDAY_SCHEDULE,\n",
    "    WEDNESDAY_SCHEDULE,\n",
    "    \n",
    ")\n",
    "\n",
    "SCHEDULES = {\n",
    "        0: MONDAY_SCHEDULE,  # Monday\n",
    "        1: TUESDAY_SCHEDULE,  # Tuesday\n",
    "        2: WEDNESDAY_SCHEDULE,  # Wednesday\n",
    "        3: THURSDAY_SCHEDULE,  # Thursday\n",
    "        4: FRIDAY_SCHEDULE,  # Friday\n",
    "        5: SATURDAY_SCHEDULE,  # Saturday\n",
    "        6: SUNDAY_SCHEDULE,  # Sunday\n",
    "    }"
   ]
  },
  {
   "cell_type": "code",
   "execution_count": 2,
   "metadata": {},
   "outputs": [
    {
     "name": "stdout",
     "output_type": "stream",
     "text": []
    }
   ],
   "source": [
    "SCHEDULES[4]"
   ]
  },
  {
   "cell_type": "code",
   "execution_count": 3,
   "metadata": {},
   "outputs": [],
   "source": [
    "from datetime import datetime\n",
    "def _parse_time_range(time_range: str) -> tuple[datetime.time, datetime.time]:\n",
    "        \"\"\"Parse a time range string (e.g., '06:00-07:00') into start and end times.\"\"\"\n",
    "        start_str, end_str = time_range.split(\"-\")\n",
    "        start_time = datetime.strptime(start_str, \"%H:%M\").time()\n",
    "        end_time = datetime.strptime(end_str, \"%H:%M\").time()\n",
    "        return start_time, end_time"
   ]
  },
  {
   "cell_type": "code",
   "execution_count": 4,
   "metadata": {},
   "outputs": [
    {
     "name": "stdout",
     "output_type": "stream",
     "text": []
    }
   ],
   "source": [
    "_parse_time_range('06:00-07:00')"
   ]
  },
  {
   "cell_type": "code",
   "execution_count": 5,
   "metadata": {},
   "outputs": [],
   "source": [
    "current_datetime = datetime.now()\n",
    "current_time = current_datetime.time()\n",
    "current_day = current_datetime.weekday()"
   ]
  },
  {
   "cell_type": "code",
   "execution_count": 6,
   "metadata": {},
   "outputs": [
    {
     "name": "stdout",
     "output_type": "stream",
     "text": []
    }
   ],
   "source": [
    "current_time"
   ]
  },
  {
   "cell_type": "code",
   "execution_count": 7,
   "metadata": {},
   "outputs": [
    {
     "name": "stdout",
     "output_type": "stream",
     "text": []
    }
   ],
   "source": [
    "current_day"
   ]
  },
  {
   "cell_type": "code",
   "execution_count": 9,
   "metadata": {},
   "outputs": [
    {
     "name": "stdout",
     "output_type": "stream",
     "text": []
    }
   ],
   "source": [
    "SCHEDULES.get(current_day,{})"
   ]
  },
  {
   "cell_type": "code",
   "execution_count": 15,
   "metadata": {},
   "outputs": [
    {
     "name": "stdout",
     "output_type": "stream",
     "text": []
    }
   ],
   "source": [
    "SCHEDULES.get(10,\"wrong day\")"
   ]
  },
  {
   "cell_type": "code",
   "execution_count": 20,
   "metadata": {},
   "outputs": [
    {
     "name": "stdout",
     "output_type": "stream",
     "text": []
    }
   ],
   "source": [
    "for time_range, activity in SCHEDULES.items():\n",
    "    print(time_range)\n",
    "    print(activity)"
   ]
  },
  {
   "cell_type": "code",
   "execution_count": 1,
   "metadata": {},
   "outputs": [],
   "source": [
    "from src.modules.schedules.schedule_getter import GideonScheduleContext"
   ]
  },
  {
   "cell_type": "code",
   "execution_count": 2,
   "metadata": {},
   "outputs": [],
   "source": [
    "sch= GideonScheduleContext()"
   ]
  },
  {
   "cell_type": "code",
   "execution_count": 3,
   "metadata": {},
   "outputs": [
    {
     "name": "stdout",
     "output_type": "stream",
     "text": []
    }
   ],
   "source": [
    "sch.get_current_activity()"
   ]
  },
  {
   "cell_type": "code",
   "execution_count": 4,
   "metadata": {},
   "outputs": [
    {
     "name": "stdout",
     "output_type": "stream",
     "text": []
    }
   ],
   "source": [
    "sch.get_schedule_for_day()"
   ]
  },
  {
   "cell_type": "code",
   "execution_count": 9,
   "metadata": {},
   "outputs": [],
   "source": [
    "import base64\n",
    "from src.settings import settings\n",
    "from groq import Groq\n",
    "image_data=r\"C:\\Users\\v-sukruthav\\downloads\\whagents\\arch tech diagram.png\"\n",
    "with open(image_data, \"rb\") as f:\n",
    "    image_bytes = f.read()\n",
    "base64_image = base64.b64encode(image_bytes).decode(\"utf-8\")\n",
    "\n",
    "            # Default prompt if none provided\n",
    "\n",
    "prompt = \"Please describe what you see in this image in detail.\"\n",
    "\n",
    "# Create the messages for the vision API\n",
    "messages = [\n",
    "    {\n",
    "        \"role\": \"user\",\n",
    "        \"content\": [\n",
    "            {\"type\": \"text\", \"text\": prompt},\n",
    "            {\n",
    "                \"type\": \"image_url\",\n",
    "                \"image_url\": {\"url\": f\"data:image/jpeg;base64,{base64_image}\"},\n",
    "            },\n",
    "        ],\n",
    "    }\n",
    "]\n",
    "# print(settings.GROQ_API_KEY)\n",
    "client = Groq(api_key=settings.GROQ_API_KEY)# Make the API call\n",
    "response = client.chat.completions.create(\n",
    "    model=settings.ITT_MODEL_NAME,\n",
    "    messages=messages,\n",
    "    max_tokens=1000,\n",
    ")"
   ]
  },
  {
   "cell_type": "code",
   "execution_count": 1,
   "metadata": {},
   "outputs": [],
   "source": [
    "from src.modules.image.img_to_text import ImageToText"
   ]
  },
  {
   "cell_type": "code",
   "execution_count": 2,
   "metadata": {},
   "outputs": [
    {
     "name": "stdout",
     "output_type": "stream",
     "text": []
    }
   ],
   "source": [
    "img_des= ImageToText()"
   ]
  },
  {
   "cell_type": "code",
   "execution_count": 14,
   "metadata": {},
   "outputs": [
    {
     "name": "stdout",
     "output_type": "stream",
     "text": []
    },
    {
     "name": "stdout",
     "output_type": "stream",
     "text": []
    }
   ],
   "source": [
    "await img_des.analyze_image(image_data=r\"C:\\Users\\v-sukruthav\\downloads\\whagents\\arch tech diagram.png\")"
   ]
  },
  {
   "cell_type": "code",
   "execution_count": 3,
   "metadata": {},
   "outputs": [
    {
     "name": "stdout",
     "output_type": "stream",
     "text": []
    }
   ],
   "source": [
    "img_des._validate_env_vars()"
   ]
  },
  {
   "cell_type": "code",
   "execution_count": null,
   "metadata": {},
   "outputs": [],
   "source": []
  },
  {
   "cell_type": "code",
   "execution_count": 4,
   "metadata": {},
   "outputs": [],
   "source": [
    "from src.modules.image.text_to_img import TextToImage"
   ]
  },
  {
   "cell_type": "code",
   "execution_count": 5,
   "metadata": {},
   "outputs": [],
   "source": [
    "img = TextToImage()"
   ]
  },
  {
   "cell_type": "code",
   "execution_count": 1,
   "metadata": {},
   "outputs": [
    {
     "name": "stdout",
     "output_type": "stream",
     "text": []
    }
   ],
   "source": [
    "! pip install torch transformers"
   ]
  },
  {
   "cell_type": "code",
   "execution_count": 1,
   "metadata": {},
   "outputs": [],
   "source": [
    "import os"
   ]
  },
  {
   "cell_type": "code",
   "execution_count": 1,
   "metadata": {},
   "outputs": [],
   "source": [
    "os.environ['HF_TOKEN']= ''"
   ]
  },
  {
   "cell_type": "code",
   "execution_count": 35,
   "metadata": {},
   "outputs": [
    {
     "name": "stdout",
     "output_type": "stream",
     "text": []
    }
   ],
   "source": [
    "from gradio_client import Client\n",
    "import os\n",
    "import shutil\n",
    "from PIL import Image  # To convert & display the image\n",
    "\n",
    "\n",
    "# Initialize the Gradio client for the specified model\n",
    "client = Client(\"black-forest-labs/FLUX.1-schnell\")\n",
    "\n",
    "# Example usage: Generate an image from text\n",
    "text_prompt = \"A boy playing cricket in hot summer in bangalore\"\n",
    "response = client.predict(text_prompt,seed=0,width=1024,height=1024,num_inference_steps=4, api_name='/infer')\n"
   ]
  },
  {
   "cell_type": "code",
   "execution_count": 36,
   "metadata": {},
   "outputs": [
    {
     "name": "stdout",
     "output_type": "stream",
     "text": []
    }
   ],
   "source": [
    "output_dir = \"images\"\n",
    "os.makedirs(output_dir, exist_ok=True)\n",
    "\n",
    "# existing_images = [f for f in os.listdir(output_dir) if f.startswith(\"Gideon_image_\") and f.endswith(\".png\")]\n",
    "next_image_number = len(os.listdir(output_dir)) + 1  # Increment count\n",
    "\n",
    "# Generate the next filename\n",
    "image_filename = f\"Gideon_image_{next_image_number}.png\"\n",
    "image_dest_path = os.path.join(output_dir, image_filename)\n",
    "\n",
    "# Extract the image path from the response tuple\n",
    "image_temp_path = response[0]  # Path to the generated image\n",
    "\n",
    "# Convert WebP to PNG and save with the sequential name\n",
    "image = Image.open(image_temp_path)\n",
    "image.save(image_dest_path, format=\"PNG\")  # Save as PNG\n",
    "\n",
    "# Display the image\n",
    "# image.show()\n",
    "\n",
    "print(f\"Image saved as: {image_dest_path}\")"
   ]
  },
  {
   "cell_type": "code",
   "execution_count": null,
   "metadata": {},
   "outputs": [],
   "source": []
  }
 ],
 "metadata": {
  "kernelspec": {
   "display_name": "agents",
   "language": "python",
   "name": "python3"
  },
  "language_info": {
   "codemirror_mode": {
    "name": "ipython",
    "version": 3
   },
   "file_extension": ".py",
   "mimetype": "text/x-python",
   "name": "python",
   "nbconvert_exporter": "python",
   "pygments_lexer": "ipython3",
   "version": "3.12.8"
  }
 },
 "nbformat": 4,
 "nbformat_minor": 2
}
